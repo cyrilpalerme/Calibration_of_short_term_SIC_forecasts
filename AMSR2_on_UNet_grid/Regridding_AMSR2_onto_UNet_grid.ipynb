{
 "cells": [
  {
   "cell_type": "code",
   "execution_count": 37,
   "id": "7e05b12a-9e1e-43d5-a8ea-84c612e3fe5c",
   "metadata": {},
   "outputs": [],
   "source": [
    "import os\n",
    "import time\n",
    "import scipy\n",
    "import pyproj\n",
    "import netCDF4\n",
    "import datetime\n",
    "import numpy as np"
   ]
  },
  {
   "cell_type": "markdown",
   "id": "f13de7bd-546c-4e72-8a98-117834050d60",
   "metadata": {},
   "source": [
    "# Constants"
   ]
  },
  {
   "cell_type": "code",
   "execution_count": 38,
   "id": "1e27cecc-4d89-417a-815b-a3a2ccf68bf7",
   "metadata": {},
   "outputs": [],
   "source": [
    "SGE_TASK_ID = 2013\n",
    "yyyy = str(SGE_TASK_ID)\n",
    "#\n",
    "paths = {}\n",
    "paths[\"AMSR2\"] = \"/lustre/storeB/project/copernicus/cosi/WP2/SIC/v0.1/\"\n",
    "paths[\"UNet\"] = \"/lustre/storeB/project/copernicus/cosi/WP3/Data/Training/Land_free_ocean/\"\n",
    "paths[\"output\"] = \"/lustre/storeB/project/copernicus/cosi/WP3/Data/AMSR2_TOPAZ4_grid/\"\n",
    "#\n",
    "date_min = yyyy + \"1201\"\n",
    "date_max = yyyy + \"1231\"\n",
    "#\n",
    "crs = {}\n",
    "#crs[\"latlon\"] = pyproj.CRS.from_proj4(\"+proj=latlon\")\n",
    "crs[\"AMSR2\"] = pyproj.CRS.from_proj4(\"+ellps=WGS84 +lat_0=90 +lon_0=0 +no_defs=None +proj=laea +type=crs +units=m +x_0=0 +y_0=0\")\n",
    "crs[\"TOPAZ\"] = pyproj.CRS.from_proj4(\"+proj=stere +lon_0=-45. +lat_ts=90. +lat_0=90. +a=6378273. +b=6378273. +ellps=sphere\")\n",
    "#"
   ]
  },
  {
   "cell_type": "code",
   "execution_count": 39,
   "id": "3af8baf0-b2bc-4840-b13f-7d1be412c611",
   "metadata": {},
   "outputs": [],
   "source": [
    "def make_list_dates(date_min, date_max):\n",
    "    current_date = datetime.datetime.strptime(date_min, \"%Y%m%d\")\n",
    "    end_date = datetime.datetime.strptime(date_max, \"%Y%m%d\")\n",
    "    list_dates = []\n",
    "    while current_date <= end_date:\n",
    "        date_str = current_date.strftime(\"%Y%m%d\")\n",
    "        list_dates.append(date_str)\n",
    "        current_date = current_date + datetime.timedelta(days = 1)\n",
    "    return(list_dates)"
   ]
  },
  {
   "cell_type": "code",
   "execution_count": 40,
   "id": "9968567d-8610-4f13-8c7d-65f0e81a068d",
   "metadata": {},
   "outputs": [],
   "source": [
    "def load_UNet_grid(paths, forecast_start_date = \"20210101\"):\n",
    "    file_UNet = paths[\"UNet\"] + forecast_start_date[0:4] + \"/\" + forecast_start_date[4:6] + \"/\" + \"Dataset_\" + forecast_start_date + \".nc\"\n",
    "    #\n",
    "    nc = netCDF4.Dataset(file_UNet, \"r\")\n",
    "    UNet = {}\n",
    "    UNet[\"x\"] = nc.variables[\"x\"][:]\n",
    "    UNet[\"y\"] = nc.variables[\"y\"][:]\n",
    "    UNet[\"lat\"] = nc.variables[\"lat\"][:,:]\n",
    "    UNet[\"lon\"] = nc.variables[\"lon\"][:,:]\n",
    "    UNet[\"LSM\"] = nc.variables[\"LSM\"][:,:]\n",
    "    nc.close()\n",
    "    #\n",
    "    return(UNet)"
   ]
  },
  {
   "cell_type": "code",
   "execution_count": 41,
   "id": "fda6a35c-6315-49a1-adc4-825c5d42ab6a",
   "metadata": {},
   "outputs": [],
   "source": [
    "def load_AMSR2_data(paths, date_task):\n",
    "    date_end = (datetime.datetime.strptime(date_task, \"%Y%m%d\") + datetime.timedelta(days = 1)).strftime(\"%Y%m%d\")\n",
    "    date_str = date_task + \"0000\" + \"-\" + date_end + \"0000\" \n",
    "    file_AMSR2 = paths[\"AMSR2\"] + date_task[0:4] + \"/\" + date_task[4:6] + \"/\" + \"sic_cosi-5km_\" + date_str + \".nc\"\n",
    "    #\n",
    "    nc = netCDF4.Dataset(file_AMSR2, \"r\")\n",
    "    AMSR2 = {}\n",
    "    AMSR2[\"x\"] = nc.variables[\"xc\"][:] * 1000\n",
    "    AMSR2[\"y\"] = nc.variables[\"yc\"][:] * 1000\n",
    "    AMSR2[\"SIC\"] = nc.variables[\"ice_conc\"][0,:,:]\n",
    "    AMSR2[\"total_standard_uncertainty\"] = nc.variables[\"total_standard_uncertainty\"][0,:,:]\n",
    "    nc.close()\n",
    "    #\n",
    "    return(AMSR2)"
   ]
  },
  {
   "cell_type": "code",
   "execution_count": 42,
   "id": "b0a5852a-4efb-410a-8966-74cd892ff19d",
   "metadata": {},
   "outputs": [],
   "source": [
    "def nearest_neighbor_indexes(x_input, y_input, x_output, y_output):\n",
    "    x_input = np.expand_dims(x_input, axis = 1)\n",
    "    y_input = np.expand_dims(y_input, axis = 1)\n",
    "    x_output = np.expand_dims(x_output, axis = 1)\n",
    "    y_output = np.expand_dims(y_output, axis = 1)\n",
    "    #\n",
    "    coord_input = np.concatenate((x_input, y_input), axis = 1)\n",
    "    coord_output = np.concatenate((x_output, y_output), axis = 1)\n",
    "    #\n",
    "    tree = scipy.spatial.KDTree(coord_input)\n",
    "    dist, idx = tree.query(coord_output)\n",
    "    #\n",
    "    return(idx)"
   ]
  },
  {
   "cell_type": "code",
   "execution_count": 43,
   "id": "a6acac84-2ffa-4f46-b9eb-e20cc651252a",
   "metadata": {},
   "outputs": [],
   "source": [
    "def regridding_AMSR2(date_task, list_dates, paths, crs):\n",
    "    #\n",
    "    AMSR2_regrid = {}\n",
    "    #\n",
    "    transform_AMSR2_to_TOPAZ = pyproj.Transformer.from_crs(crs[\"AMSR2\"], crs[\"TOPAZ\"], always_xy = True)\n",
    "    #\n",
    "    UNet = load_UNet_grid(paths)\n",
    "    xx_UNet, yy_UNet = np.meshgrid(UNet[\"x\"], UNet[\"y\"])\n",
    "    xx_UNet_flat = np.ndarray.flatten(xx_UNet)\n",
    "    yy_UNet_flat = np.ndarray.flatten(yy_UNet)\n",
    "    #\n",
    "    AMSR2 = load_AMSR2_data(paths, date_task)\n",
    "    xx_AMSR2, yy_AMSR2 = np.meshgrid(AMSR2[\"x\"], AMSR2[\"y\"])\n",
    "    xx_SIC_TOPAZproj, yy_SIC_TOPAZproj = transform_AMSR2_to_TOPAZ.transform(xx_AMSR2, yy_AMSR2)\n",
    "    SIC_AMSR2 = np.ndarray.flatten(AMSR2[\"SIC\"])\n",
    "    total_uncertainty_AMSR2 = np.ndarray.flatten(AMSR2[\"total_standard_uncertainty\"])\n",
    "    #\n",
    "    idx_fill_values = np.logical_or(SIC_AMSR2 < 0, total_uncertainty_AMSR2 < 0)\n",
    "    xx_flat_SIC_TOPAZproj = np.ndarray.flatten(xx_SIC_TOPAZproj)[idx_fill_values == False]\n",
    "    yy_flat_SIC_TOPAZproj = np.ndarray.flatten(yy_SIC_TOPAZproj)[idx_fill_values == False]\n",
    "    SIC_AMSR2 = SIC_AMSR2[idx_fill_values == False] \n",
    "    total_uncertainty_AMSR2 = total_uncertainty_AMSR2[idx_fill_values == False] \n",
    "    #\n",
    "    inter_idx = nearest_neighbor_indexes(xx_flat_SIC_TOPAZproj, yy_flat_SIC_TOPAZproj, xx_UNet_flat, yy_UNet_flat)\n",
    "    #\n",
    "    AMSR2_regrid[\"x\"] = np.copy(UNet[\"x\"])\n",
    "    AMSR2_regrid[\"y\"] = np.copy(UNet[\"y\"])\n",
    "    AMSR2_regrid[\"lat\"] = np.copy(UNet[\"lat\"])\n",
    "    AMSR2_regrid[\"lon\"] = np.copy(UNet[\"lon\"])\n",
    "    #\n",
    "    SIC_interp = SIC_AMSR2[inter_idx]\n",
    "    total_uncertainty_interp = total_uncertainty_AMSR2[inter_idx]\n",
    "    AMSR2_regrid[\"SIC\"] = np.reshape(SIC_interp, (len(UNet[\"y\"]), len(UNet[\"x\"])), order = \"C\")\n",
    "    AMSR2_regrid[\"total_uncertainty\"] = np.reshape(total_uncertainty_interp, (len(UNet[\"y\"]), len(UNet[\"x\"])), order = \"C\")\n",
    "    AMSR2_regrid[\"SIC\"][UNet[\"LSM\"] == 0] = 0\n",
    "    AMSR2_regrid[\"total_uncertainty\"][UNet[\"LSM\"] == 0] = 0\n",
    "    #\n",
    "    return(AMSR2_regrid) "
   ]
  },
  {
   "cell_type": "code",
   "execution_count": 44,
   "id": "6311d9da-33d5-400e-8d8f-1e7786f7fae2",
   "metadata": {},
   "outputs": [],
   "source": [
    "def write_netcdf(date_task, AMSR2_regrid, paths):\n",
    "    path_output = paths[\"output\"] + date_task[0:4] + \"/\" + date_task[4:6] + \"/\" \n",
    "    if os.path.exists(path_output) == False:\n",
    "        os.system(\"mkdir -p \" + path_output)    \n",
    "    output_filename = path_output + \"SIC_COSI_UNetgrid_\" + date_task + \".nc\"\n",
    "    if os.path.isfile(output_filename):\n",
    "        os.system(\"rm \" + output_filename)\n",
    "    #\n",
    "    output_netcdf = netCDF4.Dataset(output_filename, \"w\", format = \"NETCDF4\")\n",
    "    #\n",
    "    x = output_netcdf.createDimension(\"x\", len(AMSR2_regrid[\"x\"]))\n",
    "    y = output_netcdf.createDimension(\"y\", len(AMSR2_regrid[\"y\"]))\n",
    "    #\n",
    "    xc = output_netcdf.createVariable(\"xc\", \"d\", (\"x\"))\n",
    "    yc = output_netcdf.createVariable(\"yc\", \"d\", (\"y\"))\n",
    "    lat = output_netcdf.createVariable(\"lat\", \"d\", (\"y\",\"x\"))\n",
    "    lon = output_netcdf.createVariable(\"lon\", \"d\", (\"y\",\"x\"))\n",
    "    SIC = output_netcdf.createVariable(\"SIC\", \"d\", (\"y\",\"x\"))\n",
    "    total_uncertainty = output_netcdf.createVariable(\"total_uncertainty\", \"d\", (\"y\",\"x\"))\n",
    "    #\n",
    "    xc.units = \"m\"\n",
    "    yc.units = \"m\"\n",
    "    lat.units = \"degree\"\n",
    "    lon.units = \"degree\"\n",
    "    SIC.units = \"Sea ice concentration from AMSR2 observations (%)\"\n",
    "    total_uncertainty.units = \"total standard uncertainty from AMSR2 observations (%)\"\n",
    "    #\n",
    "    xc[:] = AMSR2_regrid[\"x\"] \n",
    "    yc[:] = AMSR2_regrid[\"y\"]\n",
    "    lat[:,:] = AMSR2_regrid[\"lat\"] \n",
    "    lon[:,:] = AMSR2_regrid[\"lon\"]\n",
    "    SIC[:,:] = AMSR2_regrid[\"SIC\"]\n",
    "    total_uncertainty[:,:] = AMSR2_regrid[\"total_uncertainty\"]\n",
    "    #\n",
    "    output_netcdf.description = \"+proj=stere +lon_0=-45. +lat_ts=90. +lat_0=90. +a=6378273. +b=6378273. +ellps=sphere\"\n",
    "    output_netcdf.close()"
   ]
  },
  {
   "cell_type": "code",
   "execution_count": 45,
   "id": "98d0d609-dddb-4d9c-9662-3fd71beae751",
   "metadata": {},
   "outputs": [
    {
     "name": "stdout",
     "output_type": "stream",
     "text": [
      "20121201 0.0002834796905517578\n"
     ]
    },
    {
     "ename": "FileNotFoundError",
     "evalue": "[Errno 2] No such file or directory: b'/lustre/storeB/project/copernicus/cosi/WP2/SIC/v0.1/2012/12/sic_cosi-5km_201212010000-201212020200.nc'",
     "output_type": "error",
     "traceback": [
      "\u001b[0;31m---------------------------------------------------------------------------\u001b[0m",
      "\u001b[0;31mFileNotFoundError\u001b[0m                         Traceback (most recent call last)",
      "Cell \u001b[0;32mIn [45], line 6\u001b[0m\n\u001b[1;32m      4\u001b[0m \u001b[38;5;28mprint\u001b[39m(date_task, time\u001b[38;5;241m.\u001b[39mtime() \u001b[38;5;241m-\u001b[39m t0)\n\u001b[1;32m      5\u001b[0m \u001b[38;5;66;03m#try:\u001b[39;00m\n\u001b[0;32m----> 6\u001b[0m AMSR2_regrid \u001b[38;5;241m=\u001b[39m regridding_AMSR2(date_task, list_dates, paths, crs)\n\u001b[1;32m      7\u001b[0m write_netcdf(date_task, AMSR2_regrid, paths)\n",
      "Cell \u001b[0;32mIn [43], line 12\u001b[0m, in \u001b[0;36mregridding_AMSR2\u001b[0;34m(date_task, list_dates, paths, crs)\u001b[0m\n\u001b[1;32m     10\u001b[0m yy_UNet_flat \u001b[38;5;241m=\u001b[39m np\u001b[38;5;241m.\u001b[39mndarray\u001b[38;5;241m.\u001b[39mflatten(yy_UNet)\n\u001b[1;32m     11\u001b[0m \u001b[38;5;66;03m#\u001b[39;00m\n\u001b[0;32m---> 12\u001b[0m AMSR2 \u001b[38;5;241m=\u001b[39m \u001b[43mload_AMSR2_data\u001b[49m\u001b[43m(\u001b[49m\u001b[43mpaths\u001b[49m\u001b[43m,\u001b[49m\u001b[43m \u001b[49m\u001b[43mdate_task\u001b[49m\u001b[43m)\u001b[49m\n\u001b[1;32m     13\u001b[0m xx_AMSR2, yy_AMSR2 \u001b[38;5;241m=\u001b[39m np\u001b[38;5;241m.\u001b[39mmeshgrid(AMSR2[\u001b[38;5;124m\"\u001b[39m\u001b[38;5;124mx\u001b[39m\u001b[38;5;124m\"\u001b[39m], AMSR2[\u001b[38;5;124m\"\u001b[39m\u001b[38;5;124my\u001b[39m\u001b[38;5;124m\"\u001b[39m])\n\u001b[1;32m     14\u001b[0m xx_SIC_TOPAZproj, yy_SIC_TOPAZproj \u001b[38;5;241m=\u001b[39m transform_AMSR2_to_TOPAZ\u001b[38;5;241m.\u001b[39mtransform(xx_AMSR2, yy_AMSR2)\n",
      "Cell \u001b[0;32mIn [41], line 9\u001b[0m, in \u001b[0;36mload_AMSR2_data\u001b[0;34m(paths, date_task)\u001b[0m\n\u001b[1;32m      7\u001b[0m file_AMSR2 \u001b[38;5;241m=\u001b[39m paths[\u001b[38;5;124m\"\u001b[39m\u001b[38;5;124mAMSR2\u001b[39m\u001b[38;5;124m\"\u001b[39m] \u001b[38;5;241m+\u001b[39m date_task[\u001b[38;5;241m0\u001b[39m:\u001b[38;5;241m4\u001b[39m] \u001b[38;5;241m+\u001b[39m \u001b[38;5;124m\"\u001b[39m\u001b[38;5;124m/\u001b[39m\u001b[38;5;124m\"\u001b[39m \u001b[38;5;241m+\u001b[39m date_task[\u001b[38;5;241m4\u001b[39m:\u001b[38;5;241m6\u001b[39m] \u001b[38;5;241m+\u001b[39m \u001b[38;5;124m\"\u001b[39m\u001b[38;5;124m/\u001b[39m\u001b[38;5;124m\"\u001b[39m \u001b[38;5;241m+\u001b[39m \u001b[38;5;124m\"\u001b[39m\u001b[38;5;124msic_cosi-5km_\u001b[39m\u001b[38;5;124m\"\u001b[39m \u001b[38;5;241m+\u001b[39m date_str \u001b[38;5;241m+\u001b[39m \u001b[38;5;124m\"\u001b[39m\u001b[38;5;124m.nc\u001b[39m\u001b[38;5;124m\"\u001b[39m\n\u001b[1;32m      8\u001b[0m \u001b[38;5;66;03m#\u001b[39;00m\n\u001b[0;32m----> 9\u001b[0m nc \u001b[38;5;241m=\u001b[39m \u001b[43mnetCDF4\u001b[49m\u001b[38;5;241;43m.\u001b[39;49m\u001b[43mDataset\u001b[49m\u001b[43m(\u001b[49m\u001b[43mfile_AMSR2\u001b[49m\u001b[43m,\u001b[49m\u001b[43m \u001b[49m\u001b[38;5;124;43m\"\u001b[39;49m\u001b[38;5;124;43mr\u001b[39;49m\u001b[38;5;124;43m\"\u001b[39;49m\u001b[43m)\u001b[49m\n\u001b[1;32m     10\u001b[0m AMSR2 \u001b[38;5;241m=\u001b[39m {}\n\u001b[1;32m     11\u001b[0m AMSR2[\u001b[38;5;124m\"\u001b[39m\u001b[38;5;124mx\u001b[39m\u001b[38;5;124m\"\u001b[39m] \u001b[38;5;241m=\u001b[39m nc\u001b[38;5;241m.\u001b[39mvariables[\u001b[38;5;124m\"\u001b[39m\u001b[38;5;124mxc\u001b[39m\u001b[38;5;124m\"\u001b[39m][:] \u001b[38;5;241m*\u001b[39m \u001b[38;5;241m1000\u001b[39m\n",
      "File \u001b[0;32msrc/netCDF4/_netCDF4.pyx:2463\u001b[0m, in \u001b[0;36mnetCDF4._netCDF4.Dataset.__init__\u001b[0;34m()\u001b[0m\n",
      "File \u001b[0;32msrc/netCDF4/_netCDF4.pyx:2026\u001b[0m, in \u001b[0;36mnetCDF4._netCDF4._ensure_nc_success\u001b[0;34m()\u001b[0m\n",
      "\u001b[0;31mFileNotFoundError\u001b[0m: [Errno 2] No such file or directory: b'/lustre/storeB/project/copernicus/cosi/WP2/SIC/v0.1/2012/12/sic_cosi-5km_201212010000-201212020200.nc'"
     ]
    }
   ],
   "source": [
    "t0 = time.time()\n",
    "list_dates = make_list_dates(date_min, date_max)\n",
    "for date_task in list_dates:\n",
    "    print(date_task, time.time() - t0)\n",
    "    try:\n",
    "        AMSR2_regrid = regridding_AMSR2(date_task, list_dates, paths, crs)\n",
    "        write_netcdf(date_task, AMSR2_regrid, paths)\n",
    "    except:\n",
    "        pass"
   ]
  }
 ],
 "metadata": {
  "kernelspec": {
   "display_name": "Python [conda env:atomtestfromproduction-10-2022]",
   "language": "python",
   "name": "conda-env-atomtestfromproduction-10-2022-py"
  },
  "language_info": {
   "codemirror_mode": {
    "name": "ipython",
    "version": 3
   },
   "file_extension": ".py",
   "mimetype": "text/x-python",
   "name": "python",
   "nbconvert_exporter": "python",
   "pygments_lexer": "ipython3",
   "version": "3.9.13"
  }
 },
 "nbformat": 4,
 "nbformat_minor": 5
}
