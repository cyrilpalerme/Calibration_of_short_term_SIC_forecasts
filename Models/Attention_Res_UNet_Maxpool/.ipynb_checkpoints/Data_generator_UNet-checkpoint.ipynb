{
 "cells": [
  {
   "cell_type": "code",
   "execution_count": 1,
   "id": "465af47d",
   "metadata": {},
   "outputs": [
    {
     "name": "stderr",
     "output_type": "stream",
     "text": [
      "2023-01-03 14:36:35.748353: I tensorflow/core/platform/cpu_feature_guard.cc:193] This TensorFlow binary is optimized with oneAPI Deep Neural Network Library (oneDNN) to use the following CPU instructions in performance-critical operations:  AVX2 FMA\n",
      "To enable them in other operations, rebuild TensorFlow with the appropriate compiler flags.\n",
      "2023-01-03 14:36:44.702029: W tensorflow/stream_executor/platform/default/dso_loader.cc:64] Could not load dynamic library 'libcudart.so.11.0'; dlerror: libcudart.so.11.0: cannot open shared object file: No such file or directory\n",
      "2023-01-03 14:36:44.702066: I tensorflow/stream_executor/cuda/cudart_stub.cc:29] Ignore above cudart dlerror if you do not have a GPU set up on your machine.\n",
      "2023-01-03 14:36:45.249121: E tensorflow/stream_executor/cuda/cuda_blas.cc:2981] Unable to register cuBLAS factory: Attempting to register factory for plugin cuBLAS when one has already been registered\n",
      "2023-01-03 14:37:08.052860: W tensorflow/stream_executor/platform/default/dso_loader.cc:64] Could not load dynamic library 'libnvinfer.so.7'; dlerror: libnvinfer.so.7: cannot open shared object file: No such file or directory\n",
      "2023-01-03 14:37:08.053890: W tensorflow/stream_executor/platform/default/dso_loader.cc:64] Could not load dynamic library 'libnvinfer_plugin.so.7'; dlerror: libnvinfer_plugin.so.7: cannot open shared object file: No such file or directory\n",
      "2023-01-03 14:37:08.053928: W tensorflow/compiler/tf2tensorrt/utils/py_utils.cc:38] TF-TRT Warning: Cannot dlopen some TensorRT libraries. If you would like to use Nvidia GPU with TensorRT, please make sure the missing libraries mentioned above are installed properly.\n"
     ]
    }
   ],
   "source": [
    "import netCDF4\n",
    "import tensorflow as tf\n",
    "import numpy as np\n",
    "tf.keras.utils.set_random_seed(1234)"
   ]
  },
  {
   "cell_type": "markdown",
   "id": "17daba16",
   "metadata": {},
   "source": [
    "Data_generator\n",
    "    \n",
    "    list_predictors: list of predictors (list format)\n",
    "    list_labels: list of labels (list format)\n",
    "    list_dates: list of dates (list format)   \n",
    "    lead_time: lead time (starting at 0) in integer format\n",
    "    standard: dictionary containing the standardization statistics (mean, standard deviation, min, max)\n",
    "    batch_size: batch size (integer)\n",
    "    path_data: path where the data are located\n",
    "    dim: tuple of two dimensions indicating the dimensions of the input dataindicating the dimensions of the input data (y_dim, x_dim) "
   ]
  },
  {
   "cell_type": "code",
   "execution_count": 2,
   "id": "f09117a3",
   "metadata": {},
   "outputs": [],
   "source": [
    "class Data_generator(tf.keras.utils.Sequence):\n",
    "    def __init__(self, list_predictors, list_labels, list_dates, lead_time, standard, batch_size, path_data, dim, shuffle):\n",
    "        self.list_predictors = list_predictors\n",
    "        self.list_labels = list_labels\n",
    "        self.list_dates = list_dates\n",
    "        self.lead_time = lead_time\n",
    "        self.standard = standard\n",
    "        self.batch_size = batch_size\n",
    "        self.path_data = path_data\n",
    "        self.dim = dim\n",
    "        self.shuffle = shuffle\n",
    "        self.list_IDs = np.arange(len(list_dates))\n",
    "        self.n_predictors = len(list_predictors)\n",
    "        self.n_labels = len(list_labels)\n",
    "        self.on_epoch_end()\n",
    "    #\n",
    "    def __len__(self): # Number of batches per epoch\n",
    "        return int(np.ceil(len(self.list_IDs)) / self.batch_size)\n",
    "    #\n",
    "    def __getitem__(self, index): # Generate one batch of data\n",
    "        # Generate indexes of the batch\n",
    "        indexes = self.indexes[index * self.batch_size : (index + 1) * self.batch_size]\n",
    "        # Find list of IDs\n",
    "        list_IDs_batch = [self.list_IDs[k] for k in indexes]\n",
    "        # Generate data\n",
    "        X, y = self.__data_generation(list_IDs_batch)\n",
    "        return(X, y)\n",
    "    #\n",
    "    def on_epoch_end(self): # Updates indexes after each epoch\n",
    "        self.indexes = np.arange(len(self.list_IDs))\n",
    "        if self.shuffle == True:\n",
    "            rng = np.random.default_rng()\n",
    "            rng.shuffle(self.indexes)\n",
    "    #\n",
    "    def standardize(self, var, var_data):\n",
    "        stand_data = (var_data - self.standard[var + \"_mean\"]) / self.standard[var + \"_std\"]\n",
    "        return(stand_data)\n",
    "    #\n",
    "    def normalize(self, var, var_data):\n",
    "        norm_data = (var_data - self.standard[var + \"_min\"]) / (self.standard[var + \"_max\"] - self.standard[var + \"_min\"])\n",
    "        return(norm_data)\n",
    "    #\n",
    "    def __data_generation(self, list_IDs_batch): # Generates data containing batch_size samples\n",
    "        #\n",
    "        # Initialization\n",
    "        X = np.full((self.batch_size, *self.dim, self.n_predictors), np.nan)\n",
    "        y = np.full((self.batch_size, *self.dim, self.n_labels), np.nan)\n",
    "        # Generate data\n",
    "        for i, ID in enumerate(list_IDs_batch):\n",
    "            date_ID = self.list_dates[ID]\n",
    "            file_ID = self.path_data + date_ID[0:4] + \"/\" + date_ID[4:6] + \"/\" + \"Dataset_\" + date_ID + \".nc\"\n",
    "            nc = netCDF4.Dataset(file_ID, \"r\")\n",
    "            #\n",
    "            for v, var in enumerate(self.list_predictors):\n",
    "                if var == \"initial_bias\":\n",
    "                    var_data = nc.variables[\"TOPAZ_SIC\"][0,:,:] - nc.variables[\"SICobs_AMSR2_SIC\"][:,:]\n",
    "                else:\n",
    "                    vardim = nc.variables[var].ndim\n",
    "                    if vardim == 2:\n",
    "                        var_data = nc.variables[var][:,:]\n",
    "                    elif vardim == 3:\n",
    "                        var_data = nc.variables[var][self.lead_time,:,:]\n",
    "                #\n",
    "                X[i,:,:,v] = self.normalize(var, var_data)\n",
    "            #\n",
    "            for v, var in enumerate(self.list_labels):\n",
    "                if \"_SIE_\" in var:\n",
    "                    y[i,:,:,v] = nc.variables[var][self.lead_time,:,:]\n",
    "                else: \n",
    "                    y[i,:,:,v] = self.normalize(var, nc.variables[var][self.lead_time,:,:])\n",
    "            #\n",
    "            nc.close()\n",
    "        return(X, y)"
   ]
  }
 ],
 "metadata": {
  "kernelspec": {
   "display_name": "Python 3 (ipykernel)",
   "language": "python",
   "name": "python3"
  },
  "language_info": {
   "codemirror_mode": {
    "name": "ipython",
    "version": 3
   },
   "file_extension": ".py",
   "mimetype": "text/x-python",
   "name": "python",
   "nbconvert_exporter": "python",
   "pygments_lexer": "ipython3",
   "version": "3.9.13"
  }
 },
 "nbformat": 4,
 "nbformat_minor": 5
}
