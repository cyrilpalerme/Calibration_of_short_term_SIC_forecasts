{
 "cells": [
  {
   "cell_type": "code",
   "execution_count": 161,
   "id": "2e230564-1191-4969-acd0-51ca0595157c",
   "metadata": {},
   "outputs": [],
   "source": [
    "import os\n",
    "import time\n",
    "import scipy\n",
    "import pyproj\n",
    "import netCDF4\n",
    "import datetime\n",
    "import numpy as np"
   ]
  },
  {
   "cell_type": "code",
   "execution_count": 162,
   "id": "d28555fe-bade-4c89-acc1-dd227675571e",
   "metadata": {},
   "outputs": [],
   "source": [
    "date_min = \"20211201\"\n",
    "date_max = \"20220131\"\n",
    "#\n",
    "crs = {}\n",
    "crs[\"ice_charts\"] = pyproj.CRS.from_proj4(\"+proj=stere lon_0=0.0 lat_ts=90.0 lat_0=90.0 a=6371000.0 b=6371000.0\")\n",
    "crs[\"UNet\"] = pyproj.CRS.from_proj4(\"+proj=stere +lon_0=-45. +lat_ts=90. +lat_0=90. +a=6378273. +b=6378273. +ellps=sphere\")\n",
    "#\n",
    "paths = {}\n",
    "paths[\"ice_charts\"] = \"/lustre/storeB/project/copernicus/sea_ice/SIW-METNO-ARC-SEAICE_HR-OBS/\"\n",
    "paths[\"UNet\"] = \"/lustre/storeB/project/copernicus/cosi/WP3/Data/Training/Land_free_ocean/\"\n",
    "paths[\"output\"] = \"/lustre/storeB/project/copernicus/cosi/WP3/Data/Ice_charts_UNet_grid/\""
   ]
  },
  {
   "cell_type": "code",
   "execution_count": 163,
   "id": "96a9f829-2199-4dd2-9b6d-64825846e9e8",
   "metadata": {},
   "outputs": [],
   "source": [
    "def make_list_dates(date_min, date_max):\n",
    "    current_date = datetime.datetime.strptime(date_min, \"%Y%m%d\")\n",
    "    end_date = datetime.datetime.strptime(date_max, \"%Y%m%d\")\n",
    "    list_dates = []\n",
    "    while current_date <= end_date:\n",
    "        date_str = current_date.strftime('%Y%m%d')\n",
    "        list_dates.append(date_str)\n",
    "        current_date = current_date + datetime.timedelta(days = 1)\n",
    "    return(list_dates)"
   ]
  },
  {
   "cell_type": "markdown",
   "id": "e322bb21-b25c-41e2-ab5e-8549eef17ae1",
   "metadata": {},
   "source": [
    "# Padding function (make_padding)\n",
    "\n",
    "    x and y must be vectors (can be latitude / longitude if the data are on a regular grid)  \n",
    "    field must be either a 2D array (y, x) or a 3D array (time, y, x)"
   ]
  },
  {
   "cell_type": "code",
   "execution_count": 164,
   "id": "ed2c5faf-19b9-4ad4-b812-d2b40fa6651c",
   "metadata": {},
   "outputs": [],
   "source": [
    "def make_padding(x, y, field):\n",
    "    dx = x[1] - x[0]\n",
    "    x_extent = np.pad(x, (1, 1), constant_values = np.nan)    \n",
    "    x_extent[0] = x_extent[1] - dx\n",
    "    x_extent[-1] = x_extent[-2] + dx\n",
    "    #\n",
    "    dy = y[1] - y[0]\n",
    "    y_extent = np.pad(y, (1, 1), constant_values = np.nan)\n",
    "    y_extent[0] = y_extent[1] - dy\n",
    "    y_extent[-1] = y_extent[-2] + dy\n",
    "    #\n",
    "    if field.ndim == 2:\n",
    "        field_extent = np.pad(field, (1,1), constant_values = np.nan)\n",
    "    elif field.ndim == 3:\n",
    "        time_dim = len(field[:,0,0])\n",
    "        field_extent = np.full((time_dim, len(y_extent), len(x_extent)), np.nan)\n",
    "        #\n",
    "        for t in range(0, time_dim):\n",
    "            field_extent[t,:,:] = np.pad(field[t,:,:], (1,1), constant_values = np.nan)\n",
    "    #\n",
    "    return(x_extent, y_extent, field_extent)"
   ]
  },
  {
   "cell_type": "markdown",
   "id": "0eb4931a-5ac0-4140-952d-8cbaf54f35ee",
   "metadata": {},
   "source": [
    "# Regridding functions (nearest_neighbor_indexes and nearest_neighbor_interp)\n",
    "    xx_input and yy_input must be 2D arrays\n",
    "    x_output and y_output must be vectors  \n",
    "    field must be either a 2D array with dimensions (y, x) or a 3D array with dimensions (time, y, x) \n",
    "    invalid_values = fill value to replace by 0. Land is therefore considered as open ocean."
   ]
  },
  {
   "cell_type": "code",
   "execution_count": 165,
   "id": "ed65c306-acd6-4005-acb1-5ae14c3474a8",
   "metadata": {},
   "outputs": [],
   "source": [
    "def nearest_neighbor_indexes(x_input, y_input, x_output, y_output):\n",
    "    x_input = np.expand_dims(x_input, axis = 1)\n",
    "    y_input = np.expand_dims(y_input, axis = 1)\n",
    "    x_output = np.expand_dims(x_output, axis = 1)\n",
    "    y_output = np.expand_dims(y_output, axis = 1)\n",
    "    #\n",
    "    coord_input = np.concatenate((x_input, y_input), axis = 1)\n",
    "    coord_output = np.concatenate((x_output, y_output), axis = 1)\n",
    "    #\n",
    "    tree = scipy.spatial.KDTree(coord_input)\n",
    "    dist, idx = tree.query(coord_output)\n",
    "    #\n",
    "    return(idx)"
   ]
  },
  {
   "cell_type": "code",
   "execution_count": 166,
   "id": "9e7f755c-f733-4ecb-a658-93fc757e0e54",
   "metadata": {},
   "outputs": [],
   "source": [
    "def extract_idx(Data_ice_charts, UNet_coordinates, crs = crs):\n",
    "    transform_ice_charts_to_UNet = pyproj.Transformer.from_crs(crs[\"ice_charts\"], crs[\"UNet\"], always_xy = True)\n",
    "    #\n",
    "    xx_ice_charts, yy_ice_charts = np.meshgrid(Data_ice_charts[\"x\"], Data_ice_charts[\"y\"])\n",
    "    xx_UNet, yy_UNet = np.meshgrid(UNet_coordinates[\"x\"], UNet_coordinates[\"y\"])\n",
    "    #\n",
    "    xx_ice_charts_UNetproj, yy_ice_charts_UNetproj = transform_ice_charts_to_UNet.transform(xx_ice_charts, yy_ice_charts)\n",
    "    #\n",
    "    xx_ice_charts_UNetproj_flat = np.ndarray.flatten(xx_ice_charts_UNetproj)\n",
    "    yy_ice_charts_UNetproj_flat = np.ndarray.flatten(yy_ice_charts_UNetproj)\n",
    "    xx_UNet_flat = np.ndarray.flatten(xx_UNet)\n",
    "    yy_UNet_flat = np.ndarray.flatten(yy_UNet)\n",
    "    #\n",
    "    idx = {}\n",
    "    idx[\"ice_charts_to_UNet\"] = nearest_neighbor_indexes(xx_ice_charts_UNetproj_flat, yy_ice_charts_UNetproj_flat, xx_UNet_flat, yy_UNet_flat)\n",
    "    #\n",
    "    return(idx)"
   ]
  },
  {
   "cell_type": "code",
   "execution_count": 167,
   "id": "6cdbcc47-bcc0-49c7-94be-890264b9f7ab",
   "metadata": {},
   "outputs": [],
   "source": [
    "def load_ice_chart_data(filename):\n",
    "    Data = {}\n",
    "    nc = netCDF4.Dataset(filename, \"r\")\n",
    "    x = nc.variables[\"xc\"][:]\n",
    "    y = nc.variables[\"yc\"][:]\n",
    "    SIC = nc.variables[\"ice_concentration\"][0,:,:]\n",
    "    Data[\"x\"], Data[\"y\"], Data[\"SIC\"] = make_padding(x, y, SIC)\n",
    "    LSM_field = np.zeros(np.shape(Data[\"SIC\"]))\n",
    "    LSM_field[Data[\"SIC\"] > -90] = 1\n",
    "    Data[\"LSM\"] = np.copy(LSM_field)\n",
    "    nc.close()\n",
    "    return(Data)"
   ]
  },
  {
   "cell_type": "code",
   "execution_count": 168,
   "id": "6dac561c-6896-42a0-814a-0bde22302bbf",
   "metadata": {},
   "outputs": [],
   "source": [
    "def load_UNet_coordinates(date_task = \"20220101\"):\n",
    "    Data = {}\n",
    "    filename = paths[\"UNet\"] + date_task[0:4] + \"/\" + date_task[4:6] + \"/\" + \"Dataset_\" + date_task + \".nc\"\n",
    "    nc = netCDF4.Dataset(filename, \"r\")\n",
    "    Data[\"x\"] = nc.variables[\"x\"][:]\n",
    "    Data[\"y\"] = nc.variables[\"y\"][:]\n",
    "    Data[\"lat\"] = nc.variables[\"lat\"][:,:]\n",
    "    Data[\"lon\"] = nc.variables[\"lon\"][:,:]\n",
    "    Data[\"LSM\"] = nc.variables[\"LSM\"][:,:]\n",
    "    nc.close()\n",
    "    return(Data)"
   ]
  },
  {
   "cell_type": "code",
   "execution_count": 169,
   "id": "57e51d50-dd43-46fb-aa2b-36c39a6d7e94",
   "metadata": {},
   "outputs": [],
   "source": [
    "def nearest_neighbor_interp(idx, Data_ice_charts, UNet_coordinates):\n",
    "    Data_UNet_grid = {}\n",
    "    #\n",
    "    SIC_flat = np.ndarray.flatten(Data_ice_charts[\"SIC\"])\n",
    "    LSM_flat = np.ndarray.flatten(Data_ice_charts[\"LSM\"])\n",
    "    #\n",
    "    SIC_interp = SIC_flat[idx[\"ice_charts_to_UNet\"]]\n",
    "    LSM_interp = LSM_flat[idx[\"ice_charts_to_UNet\"]]\n",
    "    #\n",
    "    Data_UNet_grid[\"x\"] = np.copy(UNet_coordinates[\"x\"])\n",
    "    Data_UNet_grid[\"y\"] = np.copy(UNet_coordinates[\"y\"])\n",
    "    Data_UNet_grid[\"lat\"] = np.copy(UNet_coordinates[\"lat\"])\n",
    "    Data_UNet_grid[\"lon\"] = np.copy(UNet_coordinates[\"lon\"])\n",
    "    SIC_UNet_grid = np.reshape(SIC_interp, (len(UNet_coordinates[\"y\"]), len(UNet_coordinates[\"x\"])), order = \"C\")\n",
    "    Data_UNet_grid[\"LSM\"] = np.reshape(LSM_interp, (len(UNet_coordinates[\"y\"]), len(UNet_coordinates[\"x\"])), order = \"C\")\n",
    "    #\n",
    "    SIC_UNet_grid[Data_UNet_grid[\"LSM\"] == 0] = np.nan\n",
    "    Data_UNet_grid[\"SIC\"] = np.copy(SIC_UNet_grid)\n",
    "    #\n",
    "    return(Data_UNet_grid)"
   ]
  },
  {
   "cell_type": "code",
   "execution_count": 170,
   "id": "6b188f3d-728e-412b-8709-23572d135390",
   "metadata": {},
   "outputs": [],
   "source": [
    "def write_netcdf(date_task, Data_UNet_grid, paths):\n",
    "    path_output = paths[\"output\"] + date_task[0:4] + \"/\" + date_task[4:6] + \"/\"\n",
    "    if os.path.isdir(path_output) == False:\n",
    "        os.system(\"mkdir -p \" + path_output)\n",
    "    #\n",
    "    file_output = path_output + \"Ice_charts_svalbard_UNet_grid_\" + date_task + \".nc\"\n",
    "    output_netcdf = netCDF4.Dataset(file_output, \"w\", format = \"NETCDF4\")\n",
    "    #\n",
    "    x = output_netcdf.createDimension(\"x\", len(Data_UNet_grid[\"x\"]))\n",
    "    y = output_netcdf.createDimension(\"y\", len(Data_UNet_grid[\"y\"]))\n",
    "    #\n",
    "    stereographic = output_netcdf.createVariable(\"crs\", \"int\")\n",
    "    x = output_netcdf.createVariable(\"x\", \"d\", (\"x\"))\n",
    "    y = output_netcdf.createVariable(\"y\", \"d\", (\"y\"))\n",
    "    lat = output_netcdf.createVariable(\"lat\", \"d\", (\"y\",\"x\"))\n",
    "    lon = output_netcdf.createVariable(\"lon\", \"d\", (\"y\",\"x\"))\n",
    "    SIC = output_netcdf.createVariable(\"SIC\", \"d\", (\"y\",\"x\"))\n",
    "    LSM = output_netcdf.createVariable(\"LSM\", \"d\", (\"y\",\"x\"))\n",
    "    #\n",
    "    stereographic.grid_mapping_name = \"polar_stereographic\"\n",
    "    stereographic.latitude_of_projection_origin = 90.0\n",
    "    stereographic.longitude_of_projection_origin = -45.0\n",
    "    stereographic.scale_factor_at_projection_origin = 1.0\n",
    "    stereographic.straight_vertical_longitude_from_pole = -45.0\n",
    "    stereographic.false_easting = 0.0\n",
    "    stereographic.false_northing = 0.0\n",
    "    stereographic.proj4_string = \"+proj=stere +lon_0=-45. +lat_ts=90. +lat_0=90. +a=6378273. +b=6378273. +ellps=sphere\"\n",
    "    x.standard_name = \"projection_x_coordinate\"\n",
    "    x.units = \"m\"\n",
    "    y.standard_name = \"projection_y_coordinate\"\n",
    "    y.units = \"m\"\n",
    "    lat.standard_name = \"latitude\"\n",
    "    lat.units = \"degrees_north\"\n",
    "    lon.standard_name = \"longitude\"\n",
    "    lon.units = \"degrees_east\"\n",
    "    SIC.standard_name = \"sea_ice_concentration\"\n",
    "    SIC.units = \"%\"\n",
    "    LSM.standard_name = \"Land sea mask\"\n",
    "    LSM.unts = \"1: ocean, 0: sea\"\n",
    "    #\n",
    "    x[:] = Data_UNet_grid[\"x\"]\n",
    "    y[:] = Data_UNet_grid[\"y\"]\n",
    "    lat[:,:] = Data_UNet_grid[\"lat\"]\n",
    "    lon[:,:] = Data_UNet_grid[\"lon\"]\n",
    "    SIC[:,:] = Data_UNet_grid[\"SIC\"]\n",
    "    LSM[:,:] = Data_UNet_grid[\"LSM\"]\n",
    "    #\n",
    "    output_netcdf.close()"
   ]
  },
  {
   "cell_type": "code",
   "execution_count": 171,
   "id": "9328bd45-913f-4c18-9bce-1e9376430b75",
   "metadata": {},
   "outputs": [
    {
     "name": "stdout",
     "output_type": "stream",
     "text": [
      "20211201\n"
     ]
    },
    {
     "ename": "PermissionError",
     "evalue": "[Errno 13] Permission denied: b'/lustre/storeB/users/cyrilp/COSI/Scripts/Datasets/Ice_charts_on_UNet_grid/Test/2021/12/Ice_charts_svalbard_UNet_grid_20211201.nc'",
     "output_type": "error",
     "traceback": [
      "\u001b[0;31m---------------------------------------------------------------------------\u001b[0m",
      "\u001b[0;31mPermissionError\u001b[0m                           Traceback (most recent call last)",
      "Cell \u001b[0;32mIn [171], line 15\u001b[0m\n\u001b[1;32m     13\u001b[0m         \u001b[38;5;66;03m#\u001b[39;00m\n\u001b[1;32m     14\u001b[0m         Data_UNet_grid \u001b[38;5;241m=\u001b[39m nearest_neighbor_interp(idx, Data_ice_charts, UNet_coordinates)\n\u001b[0;32m---> 15\u001b[0m         write_netcdf(date_task, Data_UNet_grid, paths)\n\u001b[1;32m     16\u001b[0m tf \u001b[38;5;241m=\u001b[39m time\u001b[38;5;241m.\u001b[39mtime()\n\u001b[1;32m     17\u001b[0m \u001b[38;5;28mprint\u001b[39m(\u001b[38;5;124m\"\u001b[39m\u001b[38;5;124mComputing time\u001b[39m\u001b[38;5;124m\"\u001b[39m, tf \u001b[38;5;241m-\u001b[39m t0)\n",
      "Cell \u001b[0;32mIn [170], line 7\u001b[0m, in \u001b[0;36mwrite_netcdf\u001b[0;34m(date_task, Data_UNet_grid, paths)\u001b[0m\n\u001b[1;32m      5\u001b[0m \u001b[38;5;66;03m#\u001b[39;00m\n\u001b[1;32m      6\u001b[0m file_output \u001b[38;5;241m=\u001b[39m path_output \u001b[38;5;241m+\u001b[39m \u001b[38;5;124m\"\u001b[39m\u001b[38;5;124mIce_charts_svalbard_UNet_grid_\u001b[39m\u001b[38;5;124m\"\u001b[39m \u001b[38;5;241m+\u001b[39m date_task \u001b[38;5;241m+\u001b[39m \u001b[38;5;124m\"\u001b[39m\u001b[38;5;124m.nc\u001b[39m\u001b[38;5;124m\"\u001b[39m\n\u001b[0;32m----> 7\u001b[0m output_netcdf \u001b[38;5;241m=\u001b[39m \u001b[43mnetCDF4\u001b[49m\u001b[38;5;241;43m.\u001b[39;49m\u001b[43mDataset\u001b[49m\u001b[43m(\u001b[49m\u001b[43mfile_output\u001b[49m\u001b[43m,\u001b[49m\u001b[43m \u001b[49m\u001b[38;5;124;43m\"\u001b[39;49m\u001b[38;5;124;43mw\u001b[39;49m\u001b[38;5;124;43m\"\u001b[39;49m\u001b[43m,\u001b[49m\u001b[43m \u001b[49m\u001b[38;5;28;43mformat\u001b[39;49m\u001b[43m \u001b[49m\u001b[38;5;241;43m=\u001b[39;49m\u001b[43m \u001b[49m\u001b[38;5;124;43m\"\u001b[39;49m\u001b[38;5;124;43mNETCDF4\u001b[39;49m\u001b[38;5;124;43m\"\u001b[39;49m\u001b[43m)\u001b[49m\n\u001b[1;32m      8\u001b[0m \u001b[38;5;66;03m#\u001b[39;00m\n\u001b[1;32m      9\u001b[0m x \u001b[38;5;241m=\u001b[39m output_netcdf\u001b[38;5;241m.\u001b[39mcreateDimension(\u001b[38;5;124m\"\u001b[39m\u001b[38;5;124mx\u001b[39m\u001b[38;5;124m\"\u001b[39m, \u001b[38;5;28mlen\u001b[39m(Data_UNet_grid[\u001b[38;5;124m\"\u001b[39m\u001b[38;5;124mx\u001b[39m\u001b[38;5;124m\"\u001b[39m]))\n",
      "File \u001b[0;32msrc/netCDF4/_netCDF4.pyx:2463\u001b[0m, in \u001b[0;36mnetCDF4._netCDF4.Dataset.__init__\u001b[0;34m()\u001b[0m\n",
      "File \u001b[0;32msrc/netCDF4/_netCDF4.pyx:2026\u001b[0m, in \u001b[0;36mnetCDF4._netCDF4._ensure_nc_success\u001b[0;34m()\u001b[0m\n",
      "\u001b[0;31mPermissionError\u001b[0m: [Errno 13] Permission denied: b'/lustre/storeB/users/cyrilp/COSI/Scripts/Datasets/Ice_charts_on_UNet_grid/Test/2021/12/Ice_charts_svalbard_UNet_grid_20211201.nc'"
     ]
    }
   ],
   "source": [
    "t0 = time.time()\n",
    "UNet_coordinates = load_UNet_coordinates()\n",
    "list_dates = make_list_dates(date_min, date_max)\n",
    "for date_task in list_dates:\n",
    "    filename_ice_charts = paths[\"ice_charts\"] + date_task[0:4] + \"/\" + date_task[4:6] + \"/\" + \"ice_conc_svalbard_\" + date_task + \"1500.nc\"\n",
    "    if os.path.isfile(filename_ice_charts):\n",
    "        print(date_task)\n",
    "        Data_ice_charts = load_ice_chart_data(filename_ice_charts)\n",
    "        if \"idx\" in globals():\n",
    "            pass\n",
    "        else:\n",
    "            idx = extract_idx(Data_ice_charts, UNet_coordinates, crs = crs)\n",
    "        #\n",
    "        Data_UNet_grid = nearest_neighbor_interp(idx, Data_ice_charts, UNet_coordinates)\n",
    "        write_netcdf(date_task, Data_UNet_grid, paths)\n",
    "tf = time.time()\n",
    "print(\"Computing time\", tf - t0)"
   ]
  }
 ],
 "metadata": {
  "kernelspec": {
   "display_name": "Python [conda env:production-08-2023] *",
   "language": "python",
   "name": "conda-env-production-08-2023-py"
  },
  "language_info": {
   "codemirror_mode": {
    "name": "ipython",
    "version": 3
   },
   "file_extension": ".py",
   "mimetype": "text/x-python",
   "name": "python",
   "nbconvert_exporter": "python",
   "pygments_lexer": "ipython3",
   "version": "3.9.13"
  }
 },
 "nbformat": 4,
 "nbformat_minor": 5
}
