{
 "cells": [
  {
   "cell_type": "code",
   "execution_count": 9,
   "id": "2996d238-d3c9-4b4f-a47f-57314d843c75",
   "metadata": {},
   "outputs": [],
   "source": [
    "import time\n",
    "import os\n",
    "import h5py\n",
    "import datetime\n",
    "import netCDF4\n",
    "import numpy as np"
   ]
  },
  {
   "cell_type": "code",
   "execution_count": 10,
   "id": "7c4ce3d1-a1a7-40fe-beab-25cfe0935465",
   "metadata": {},
   "outputs": [],
   "source": [
    "SGE_TASK_ID = 400\n",
    "#\n",
    "date_min = \"20210101\"\n",
    "date_max = \"20221231\"\n",
    "#\n",
    "paths = {}\n",
    "paths[\"AMSR2\"] = \"/lustre/storeB/project/copernicus/cosi/WP3/Data/AMSR2_TOPAZ4_grid/\"\n",
    "paths[\"UNet\"] = \"/lustre/storeB/project/copernicus/cosi/WP3/Data/Training/Land_free_ocean/\"\n",
    "paths[\"output\"] = \"/lustre/storeB/project/copernicus/cosi/WP3/Data/AMSR2_ice_edge_length/\"\n",
    "#\n",
    "SIC_thresholds = [\"10\", \"15\", \"20\"]\n",
    "#\n",
    "grid_resolution = 12500"
   ]
  },
  {
   "cell_type": "code",
   "execution_count": 11,
   "id": "369b791d-119b-43cf-afb7-f07ba0c872b7",
   "metadata": {},
   "outputs": [],
   "source": [
    "def make_list_dates(date_min, date_max):\n",
    "    current_date = datetime.datetime.strptime(date_min, \"%Y%m%d\")\n",
    "    end_date = datetime.datetime.strptime(date_max, \"%Y%m%d\")\n",
    "    list_dates = []\n",
    "    while current_date <= end_date:\n",
    "        date_str = current_date.strftime(\"%Y%m%d\")\n",
    "        list_dates.append(date_str)\n",
    "        current_date = current_date + datetime.timedelta(days = 1)\n",
    "    return(list_dates)"
   ]
  },
  {
   "cell_type": "code",
   "execution_count": 12,
   "id": "6e57cd92-6bb3-461e-b27e-7a0f5da95de1",
   "metadata": {},
   "outputs": [],
   "source": [
    "def ice_edge_position(SIE, LSM):\n",
    "    # LSM => 1 ocean  / 0 land and on the same grid as the SIE\n",
    "    xdim, ydim = np.shape(SIE)\n",
    "    nb_neighbors_open_ocean = np.zeros((xdim, ydim))\n",
    "    for i in range(0, xdim):\n",
    "        for j in range(0, ydim):\n",
    "            if (i > 0 and i < xdim-1 and j > 0 and j < ydim-1):\n",
    "                neighbors_SIE = [SIE[i-1,j], SIE[i+1,j], SIE[i, j-1], SIE[i, j+1]]\n",
    "                neighbors_ocean = [LSM[i-1,j], LSM[i+1,j], LSM[i, j-1], LSM[i, j+1]]\n",
    "            elif (i == 0 and j > 0 and j < ydim-1):\n",
    "                neighbors_SIE = [SIE[i+1,j], SIE[i, j-1], SIE[i, j+1]]\n",
    "                neighbors_ocean = [LSM[i+1,j], LSM[i, j-1], LSM[i, j+1]]\n",
    "            elif (i == xdim-1 and j > 0 and j < ydim-1):\n",
    "                neighbors_SIE = [SIE[i-1,j], SIE[i, j-1], SIE[i, j+1]]\n",
    "                neighbors_ocean = [LSM[i-1,j], LSM[i, j-1], LSM[i, j+1]]\n",
    "            elif (i > 0 and i < xdim-1 and j == 0):\n",
    "                neighbors_SIE = [SIE[i-1,j], SIE[i+1,j], SIE[i, j+1]]\n",
    "                neighbors_ocean = [LSM[i-1,j], LSM[i+1,j], LSM[i, j+1]]\n",
    "            elif (i > 0 and i < xdim-1 and j == ydim-1):\n",
    "                neighbors_SIE = [SIE[i-1,j], SIE[i+1,j], SIE[i, j-1]]\n",
    "                neighbors_ocean = [LSM[i-1,j], LSM[i+1,j], LSM[i, j-1]]\n",
    "            elif (i == 0 and j == 0):\n",
    "                neighbors_SIE = [SIE[i+1,j], SIE[i, j+1]]\n",
    "                neighbors_ocean = [LSM[i+1,j], LSM[i, j+1]]\n",
    "            elif (i == 0 and j == ydim-1):\n",
    "                neighbors_SIE = [SIE[i+1,j], SIE[i, j-1]]\n",
    "                neighbors_ocean = [LSM[i+1,j], LSM[i, j-1]]\n",
    "            elif (i == xdim-1 and j == 0):\n",
    "                neighbors_SIE = [SIE[i-1,j], SIE[i, j+1]]\n",
    "                neighbors_ocean = [LSM[i-1,j], LSM[i, j+1]]\n",
    "            elif (i == xdim-1 and j == ydim-1):\n",
    "                neighbors_SIE = [SIE[i-1,j], SIE[i, j-1]]\n",
    "                neighbors_ocean = [LSM[i-1,j], LSM[i, j-1]]\n",
    "            #\n",
    "            neighbors_SIE = np.array(neighbors_SIE)\n",
    "            neighbors_ocean = np.array(neighbors_ocean)\n",
    "            neighbors_open_ocean = np.zeros(len(neighbors_SIE))\n",
    "            neighbors_open_ocean[np.logical_and(neighbors_SIE == 0, neighbors_ocean == 1)] = 1\n",
    "            nb_neighbors_open_ocean[i,j] = np.nansum(neighbors_open_ocean)\n",
    "    ###\n",
    "    ice_edge = np.logical_and(nb_neighbors_open_ocean >= 1, SIE == 1)\n",
    "    return(ice_edge)"
   ]
  },
  {
   "cell_type": "code",
   "execution_count": 13,
   "id": "53dd5cf7-bee6-4897-815c-4089a197b209",
   "metadata": {},
   "outputs": [],
   "source": [
    "def length_sea_ice_edge(ice_edge, spatial_resolution):\n",
    "    xdim, ydim = np.shape(ice_edge)\n",
    "    length_sie = np.zeros(np.shape(ice_edge))\n",
    "    for i in range(0, xdim):\n",
    "        for j in range(ydim):\n",
    "            if ice_edge[i,j] == 1:\n",
    "                if (i > 0 and i < xdim-1 and j > 0 and j < ydim-1):\n",
    "                    nb_neighbors_sie = np.nansum(np.array([ice_edge[i-1,j], ice_edge[i+1,j], ice_edge[i,j-1], ice_edge[i,j+1]]))\n",
    "                elif (i == 0 and j > 0 and j < ydim-1):\n",
    "                    nb_neighbors_sie = np.nansum(np.array([ice_edge[i+1,j], ice_edge[i, j-1], ice_edge[i, j+1]]))\n",
    "                elif (i == xdim-1 and j > 0 and j < ydim-1):\n",
    "                    nb_neighbors_sie = np.nansum(np.array([ice_edge[i-1,j], ice_edge[i, j-1], ice_edge[i, j+1]]))\n",
    "                elif (i > 0 and i < xdim-1 and j == 0):\n",
    "                    nb_neighbors_sie = np.nansum(np.array([ice_edge[i-1,j], ice_edge[i+1,j], ice_edge[i, j+1]]))\n",
    "                elif (i > 0 and i < xdim-1 and j == ydim-1):\n",
    "                    nb_neighbors_sie = np.nansum(np.array([ice_edge[i-1,j], ice_edge[i+1,j], ice_edge[i, j-1]]))\n",
    "                elif (i == 0 and j == 0):\n",
    "                    nb_neighbors_sie = np.nansum(np.array([ice_edge[i+1,j], ice_edge[i, j+1]]))\n",
    "                elif (i == 0 and j == ydim-1):\n",
    "                    nb_neighbors_sie = np.nansum(np.array([ice_edge[i+1,j], ice_edge[i, j-1]]))\n",
    "                elif (i == xdim-1 and j == 0):\n",
    "                    nb_neighbors_sie = np.nansum(np.array([ice_edge[i-1,j], ice_edge[i, j+1]]))\n",
    "                elif (i == xdim-1 and j == ydim-1):\n",
    "                    nb_neighbors_sie = np.nansum(np.array([ice_edge[i-1,j], ice_edge[i, j-1]]))\n",
    "                #\n",
    "                nb_neighbors_sie = np.array(nb_neighbors_sie)\n",
    "                if np.sum(nb_neighbors_sie) == 0:\n",
    "                    length_sie[i,j] = np.sqrt(2) * spatial_resolution\n",
    "                elif np.sum(nb_neighbors_sie) == 1:\n",
    "                    length_sie[i,j] = 0.5 * (spatial_resolution + np.sqrt(2) * spatial_resolution)\n",
    "                elif np.sum(nb_neighbors_sie) >= 2:\n",
    "                    length_sie[i,j] = spatial_resolution\n",
    "    #\n",
    "    sie_length = np.sum(length_sie)\n",
    "    return(sie_length)"
   ]
  },
  {
   "cell_type": "code",
   "execution_count": 14,
   "id": "cce0bc27-006d-4b83-8d93-1d4c4ab15461",
   "metadata": {},
   "outputs": [],
   "source": [
    "def calculate_ice_edge_length(date_obs, SIC_thresholds, paths):\n",
    "    Ice_edge_lengths = {}\n",
    "    #\n",
    "    file_UNet = paths[\"UNet\"] + \"2021/01/Dataset_20210101.nc\"\n",
    "    nc_UNet = netCDF4.Dataset(file_UNet, \"r\")\n",
    "    LSM = nc_UNet.variables[\"LSM\"][:,:]\n",
    "    nc_UNet.close()\n",
    "    #\n",
    "    file_AMSR2 = paths[\"AMSR2\"] + date_obs[0:4] + \"/\" + date_obs[4:6] + \"/\" + \"SIC_COSI_UNetgrid_\" + date_obs + \".nc\"\n",
    "    nc_AMSR2 = netCDF4.Dataset(file_AMSR2, \"r\")\n",
    "    SIC = nc_AMSR2.variables[\"SIC\"][:,:]\n",
    "    nc_AMSR2.close()\n",
    "    #\n",
    "    for thresh_SIC in SIC_thresholds:\n",
    "        SIE = np.zeros(np.shape(SIC))\n",
    "        SIE[SIC >= int(thresh_SIC)] = 1\n",
    "        ice_edge = ice_edge_position(SIE, LSM)\n",
    "        Ice_edge_lengths[\"SIC\" + thresh_SIC] = length_sea_ice_edge(ice_edge, grid_resolution)\n",
    "    #\n",
    "    return(Ice_edge_lengths)"
   ]
  },
  {
   "cell_type": "code",
   "execution_count": 15,
   "id": "7f802f34-a3f2-4d2c-a8a0-fd606079b725",
   "metadata": {},
   "outputs": [],
   "source": [
    "def write_output(Ice_edge_lengths, date_obs, paths, SIC_thresholds):\n",
    "    path_output = paths[\"output\"] + date_obs[0:4] + \"/\" + date_obs[4:6] + \"/\"\n",
    "    if os.path.isdir(path_output) == False:\n",
    "        os.system(\"mkdir -p \" + path_output)\n",
    "    #\n",
    "    filename_output = path_output + \"Ice_edge_lengths_\" + date_obs + \".h5\"\n",
    "    hf = h5py.File(filename_output, \"w\")\n",
    "    for var in Ice_edge_lengths:\n",
    "        print(var)\n",
    "        output_var = \"Ice_edge_lengths_\" + var\n",
    "        hf.create_dataset(output_var, data = Ice_edge_lengths[var])\n",
    "    hf.close()"
   ]
  },
  {
   "cell_type": "code",
   "execution_count": 16,
   "id": "08811c5d-3654-4622-8f76-13184ef0ff7a",
   "metadata": {},
   "outputs": [
    {
     "name": "stdout",
     "output_type": "stream",
     "text": [
      "SIC10\n",
      "SIC15\n",
      "SIC20\n",
      "Computing time 23.223940134048462\n"
     ]
    }
   ],
   "source": [
    "t0 = time.time()\n",
    "list_dates = make_list_dates(date_min, date_max)\n",
    "date_obs = list_dates[SGE_TASK_ID -1]\n",
    "Ice_edge_lengths = calculate_ice_edge_length(date_obs, SIC_thresholds, paths)\n",
    "write_output(Ice_edge_lengths, date_obs, paths, SIC_thresholds)\n",
    "tf = time.time() - t0\n",
    "print(\"Computing time\", tf)"
   ]
  }
 ],
 "metadata": {
  "kernelspec": {
   "display_name": "Python [conda env:production-10-2022] *",
   "language": "python",
   "name": "conda-env-production-10-2022-py"
  },
  "language_info": {
   "codemirror_mode": {
    "name": "ipython",
    "version": 3
   },
   "file_extension": ".py",
   "mimetype": "text/x-python",
   "name": "python",
   "nbconvert_exporter": "python",
   "pygments_lexer": "ipython3",
   "version": "3.9.13"
  }
 },
 "nbformat": 4,
 "nbformat_minor": 5
}
