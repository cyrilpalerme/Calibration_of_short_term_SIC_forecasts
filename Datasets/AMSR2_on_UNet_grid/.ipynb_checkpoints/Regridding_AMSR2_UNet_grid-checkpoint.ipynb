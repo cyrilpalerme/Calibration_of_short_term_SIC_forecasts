{
 "cells": [
  {
   "cell_type": "code",
   "execution_count": 27,
   "id": "7e05b12a-9e1e-43d5-a8ea-84c612e3fe5c",
   "metadata": {},
   "outputs": [],
   "source": [
    "import scipy\n",
    "import pyproj\n",
    "import netCDF4\n",
    "import datetime\n",
    "import numpy as np"
   ]
  },
  {
   "cell_type": "markdown",
   "id": "f13de7bd-546c-4e72-8a98-117834050d60",
   "metadata": {},
   "source": [
    "# Constants"
   ]
  },
  {
   "cell_type": "code",
   "execution_count": 28,
   "id": "1e27cecc-4d89-417a-815b-a3a2ccf68bf7",
   "metadata": {},
   "outputs": [],
   "source": [
    "SGE_TASK_ID = yyyy\n",
    "#\n",
    "paths = {}\n",
    "paths[\"AMSR2\"] = \"/lustre/storeB/project/copernicus/cosi/WP2/SIC/v0.1/\"\n",
    "paths[\"output\"] = \"/lustre/storeB/project/copernicus/cosi/WP3/Data/AMSR2_TOPAZ4_grid/\"\n",
    "#\n",
    "date_min = str(yyyy) + \"0101\"\n",
    "date_max = str(yyyy) + \"1231\"\n",
    "#\n",
    "crs = {}\n",
    "#crs[\"latlon\"] = pyproj.CRS.from_proj4(\"+proj=latlon\")\n",
    "crs[\"AMSR2\"] = pyproj.CRS.from_proj4(\"+ellps=WGS84 +lat_0=90 +lon_0=0 +no_defs=None +proj=laea +type=crs +units=m +x_0=0 +y_0=0\")\n",
    "crs[\"TOPAZ\"] = pyproj.CRS.from_proj4(\"+proj=stere +lon_0=-45. +lat_ts=90. +lat_0=90. +a=6378273. +b=6378273. +ellps=sphere\")\n",
    "#\n",
    "transform_AMSR2_to_TOPAZ = pyproj.Transformer.from_crs(crs[\"AMSR2\"], crs[\"TOPAZ\"], always_xy = True)"
   ]
  },
  {
   "cell_type": "code",
   "execution_count": 29,
   "id": "3af8baf0-b2bc-4840-b13f-7d1be412c611",
   "metadata": {},
   "outputs": [],
   "source": [
    "def make_list_dates(date_min, date_max):\n",
    "    current_date = datetime.datetime.strptime(date_min, \"%Y%m%d\")\n",
    "    end_date = datetime.datetime.strptime(date_max, \"%Y%m%d\")\n",
    "    list_dates = []\n",
    "    while current_date <= end_date:\n",
    "        date_str = current_date.strftime(\"%Y%m%d\")\n",
    "        list_dates.append(date_str)\n",
    "        current_date = current_date + datetime.timedelta(days = 1)\n",
    "    return(list_dates)"
   ]
  },
  {
   "cell_type": "code",
   "execution_count": null,
   "id": "9968567d-8610-4f13-8c7d-65f0e81a068d",
   "metadata": {},
   "outputs": [],
   "source": [
    "def load_UNet_grid(date = \"\")"
   ]
  },
  {
   "cell_type": "markdown",
   "id": "1664e3cc-542f-41d3-80d0-6c7a25fb9c73",
   "metadata": {},
   "source": [
    "# Regridding functions (nearest_neighbor_indexes and nearest_neighbor_interp)\n",
    "\n",
    "xx_input and yy_input must be 2D arrays\n",
    "\n",
    "x_output and y_output must be vectors  \n",
    "\n",
    "field must be either a 2D array with dimensions (y, x) or a 3D array with dimensions (time, y, x) \n",
    "\n",
    "invalid_values = fill value to replace by 0. Land is therefore considered as open ocean."
   ]
  },
  {
   "cell_type": "code",
   "execution_count": null,
   "id": "0c6fccca-b808-4a5a-843f-068a749a3d4a",
   "metadata": {},
   "outputs": [],
   "source": [
    "def nearest_neighbor_indexes(x_input, y_input, x_output, y_output):\n",
    "    x_input = np.expand_dims(x_input, axis = 1)\n",
    "    y_input = np.expand_dims(y_input, axis = 1)\n",
    "    x_output = np.expand_dims(x_output, axis = 1)\n",
    "    y_output = np.expand_dims(y_output, axis = 1)\n",
    "    #\n",
    "    coord_input = np.concatenate((x_input, y_input), axis = 1)\n",
    "    coord_output = np.concatenate((x_output, y_output), axis = 1)\n",
    "    #\n",
    "    tree = scipy.spatial.KDTree(coord_input)\n",
    "    dist, idx = tree.query(coord_output)\n",
    "    #\n",
    "    return(idx)"
   ]
  },
  {
   "cell_type": "code",
   "execution_count": 33,
   "id": "9338b87d-3eee-48de-b100-9f54fd28fa5c",
   "metadata": {},
   "outputs": [],
   "source": [
    "def nearest_neighbor_interp(xx_input, yy_input, x_output, y_output, field, fill_value = None):\n",
    "    xx_input_flat = np.ndarray.flatten(xx_input)\n",
    "    yy_input_flat = np.ndarray.flatten(yy_input)\n",
    "    #\n",
    "    if fill_value is not None:\n",
    "        if field.ndim == 2:\n",
    "            idx_fill_value = np.ndarray.flatten(field) == fill_value\n",
    "        elif field.ndim == 3:\n",
    "            idx_fill_value = np.ndarray.flatten(field[0,:,:]) == fill_value\n",
    "        #\n",
    "        xx_input_flat = xx_input_flat[idx_fill_value == False]\n",
    "    #\n",
    "    xx_output, yy_output = np.meshgrid(x_output, y_output)\n",
    "    xx_output_flat = np.ndarray.flatten(xx_output)\n",
    "    yy_output_flat = np.ndarray.flatten(yy_output)\n",
    "    #\n",
    "    idx = nearest_neighbor_indexes(xx_input_flat, yy_input_flat, xx_output_flat, yy_output_flat)\n",
    "    #\n",
    "    if field.ndim == 2:\n",
    "        field_flat = np.ndarray.flatten(field)\n",
    "        if fill_value is not None:\n",
    "            field_flat = field_flat[idx_fill_value == False]\n",
    "        #\n",
    "        field_interp = field_flat[idx]\n",
    "        field_regrid = np.reshape(field_interp, (len(y_output), len(x_output)), order = \"C\")\n",
    "    #    \n",
    "    elif field.ndim == 3:\n",
    "        time_dim = len(field[:,0,0])\n",
    "        field_regrid = np.full((time_dim, len(y_output), len(x_output)), np.nan)\n",
    "        #\n",
    "        for t in range(0, time_dim):\n",
    "            field_flat = np.ndarray.flatten(field[t,:,:])\n",
    "            if fill_value is not None:\n",
    "                field_flat = field_flat[idx_fill_value == False]\n",
    "            #\n",
    "            field_interp = field_flat[idx]\n",
    "            field_regrid[t,:,:] = np.reshape(field_interp, (len(y_output), len(x_output)), order = \"C\")\n",
    "    #\n",
    "    return(field_regrid)"
   ]
  },
  {
   "cell_type": "code",
   "execution_count": 30,
   "id": "a6acac84-2ffa-4f46-b9eb-e20cc651252a",
   "metadata": {},
   "outputs": [],
   "source": [
    "def regridding_AMSR2(date_task, paths):\n",
    "    date_end = (datetime.datetime.strptime(date_task, \"%Y%m%d\") + datetime.timedelta(days = 1)).strftime(\"%Y%m%d\")\n",
    "    date_str = date_task + \"0000\" + \"-\" + date_end + \"0000\" \n",
    "    file_AMSR2 = paths[\"AMSR2\"] + date_task[0:4] + \"/\" + date_task[4:6] + \"/\" + \"sic_cosi-5km_\" + date_str + \".nc\" \n",
    "    #\n",
    "    nc_AMSR2 = netCDF4.Dataset(file_AMSR2, \"r\")\n",
    "    #\n",
    "    if date_task[4:8] = \"0101\":\n",
    "        x_AMSR2 = nc_AMSR2.variables[\"xc\"][:] * 1000\n",
    "        y_AMSR2 = nc_AMSR2.variables[\"yc\"][:] * 1000\n",
    "        xx_AMSR2, yy_AMSR2 = np.meshgrid(x_AMSR2, y_AMSR2)\n",
    "        xx_SIC_TOPAZproj, yy_SIC_TOPAZproj = transform_AMSR2_to_TOPAZ.transform(xx_SIC, yy_SIC)\n",
    "        xx_flat_SIC_TOPAZproj = np.ndarray.flatten(xx_SIC_TOPAZproj)\n",
    "        yy_flat_SIC_TOPAZproj = np.ndarray.flatten(yy_SIC_TOPAZproj)\n",
    "        interp_idx = nearest_neighbor_indexes(xx_flat_SIC_TOPAZproj, yy_flat_SIC_TOPAZproj, x_output, y_output)\n",
    "    #\n",
    "    SIC_AMSR2 = nc_AMSR2.variables[\"ice_conc\"][0,:,:]\n",
    "    total_standard_uncertainty_AMSR2 = nc_AMSR2.variables[\"total_standard_uncertainty\"][0,:,:]\n",
    "    nc_AMSR2.close()\n",
    "    #\n",
    "    #\n",
    "    print(file_AMSR2)"
   ]
  },
  {
   "cell_type": "code",
   "execution_count": 31,
   "id": "98d0d609-dddb-4d9c-9662-3fd71beae751",
   "metadata": {},
   "outputs": [
    {
     "name": "stdout",
     "output_type": "stream",
     "text": [
      "/lustre/storeB/project/copernicus/cosi/WP2/SIC/v0.1/2013/02/sic_cosi-5km_201302090000-201302100000.nc\n"
     ]
    }
   ],
   "source": [
    "list_dates = make_list_dates(date_min, date_max)\n",
    "date_task = list_dates[SGE_TASK_ID - 1]\n",
    "regridding_AMSR2(date_task, paths)"
   ]
  },
  {
   "cell_type": "code",
   "execution_count": 32,
   "id": "36369c33-59bf-4f51-a794-3ddac18b866e",
   "metadata": {},
   "outputs": [
    {
     "data": {
      "text/plain": [
       "'20130209'"
      ]
     },
     "execution_count": 32,
     "metadata": {},
     "output_type": "execute_result"
    }
   ],
   "source": [
    "date_task"
   ]
  },
  {
   "cell_type": "code",
   "execution_count": null,
   "id": "0ef5d4db-ef6e-48a4-9183-160b628b6927",
   "metadata": {},
   "outputs": [],
   "source": []
  }
 ],
 "metadata": {
  "kernelspec": {
   "display_name": "Python [conda env:atomtestfromproduction-10-2022]",
   "language": "python",
   "name": "conda-env-atomtestfromproduction-10-2022-py"
  },
  "language_info": {
   "codemirror_mode": {
    "name": "ipython",
    "version": 3
   },
   "file_extension": ".py",
   "mimetype": "text/x-python",
   "name": "python",
   "nbconvert_exporter": "python",
   "pygments_lexer": "ipython3",
   "version": "3.9.13"
  }
 },
 "nbformat": 4,
 "nbformat_minor": 5
}
